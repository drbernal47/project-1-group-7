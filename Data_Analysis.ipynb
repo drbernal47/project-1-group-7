{
 "cells": [
  {
   "cell_type": "code",
   "execution_count": null,
   "metadata": {},
   "outputs": [],
   "source": [
    "import pandas as pd\n",
    "import matplotlib.pyplot as plt\n",
    "import numpy as np\n",
    "from scipy.stats import linregress\n",
    "from scipy.stats import f_oneway"
   ]
  },
  {
   "cell_type": "code",
   "execution_count": null,
   "metadata": {},
   "outputs": [],
   "source": [
    "# Mason's code begins here (Read data from cleaned up file & create a dataframe with just 2019 data)"
   ]
  },
  {
   "cell_type": "code",
   "execution_count": null,
   "metadata": {},
   "outputs": [],
   "source": [
    "#import df from cleaned data notebook\n",
    "data_df=pd.read_csv('merged.tsv', sep='\\t')"
   ]
  },
  {
   "cell_type": "code",
   "execution_count": null,
   "metadata": {},
   "outputs": [],
   "source": [
    "data_df"
   ]
  },
  {
   "cell_type": "code",
   "execution_count": null,
   "metadata": {},
   "outputs": [],
   "source": [
    "df=data_df.drop(\"Unnamed: 0\", axis=1)\n",
    "df"
   ]
  },
  {
   "cell_type": "code",
   "execution_count": null,
   "metadata": {},
   "outputs": [],
   "source": [
    "# Mason's code ends here"
   ]
  },
  {
   "cell_type": "code",
   "execution_count": null,
   "metadata": {},
   "outputs": [],
   "source": [
    "# Steve's code begins here (scatterplots & linear regression for happiness & six factors)\n",
    "df = df.dropna()\n",
    "len(df)"
   ]
  },
  {
   "cell_type": "code",
   "execution_count": null,
   "metadata": {},
   "outputs": [],
   "source": [
    "# Scatterplot of Overall Happiness Score vs. Internet Users by %\n",
    "x_axis = df['Internet_2019']\n",
    "y_axis = df['Score_2019']\n",
    "plt.scatter(x_axis, y_axis, edgecolor = 'black')\n",
    "plt.xlabel('Internet Users by %')\n",
    "plt.ylabel('Overall Happiness Score')\n",
    "plt.title('Happiness Score by % Internet Users')\n",
    "plt.xlim(0,100)\n",
    "plt.savefig('output_data/score.png')\n",
    "plt.grid()"
   ]
  },
  {
   "cell_type": "code",
   "execution_count": null,
   "metadata": {},
   "outputs": [],
   "source": [
    "# Scatterplot of GDP per Capita vs. Internet Users by %\n",
    "x_axis = df['Internet_2019']\n",
    "y_axis = df['GDP per capita_2019']\n",
    "plt.scatter(x_axis, y_axis, edgecolor = 'black')\n",
    "plt.xlabel('Internet Users by %')\n",
    "plt.ylabel('GDP per Capita')\n",
    "plt.title('Gross Domestic Product per Capita by % Inernet Users')\n",
    "plt.xlim(0,100)\n",
    "plt.savefig('output_data/GDP.png')\n",
    "plt.grid()"
   ]
  },
  {
   "cell_type": "code",
   "execution_count": null,
   "metadata": {},
   "outputs": [],
   "source": [
    "# Scatterplot of Social Support vs. Internet Users by %\n",
    "x_axis = df['Internet_2019']\n",
    "y_axis = df['Social support_2019']\n",
    "plt.scatter(x_axis, y_axis, edgecolor = 'black')\n",
    "plt.xlabel('Internet Users by %')\n",
    "plt.ylabel('Social support')\n",
    "plt.title('Social Support by % Internet Users')\n",
    "plt.xlim(0,100)\n",
    "plt.savefig('output_data/social.png')\n",
    "plt.grid()"
   ]
  },
  {
   "cell_type": "code",
   "execution_count": null,
   "metadata": {},
   "outputs": [],
   "source": [
    "# Scatterplot of Healthy Life Expectancy vs. Internet Users by %\n",
    "x_axis = df['Internet_2019']\n",
    "y_axis = df['Healthy life expectancy_2019']\n",
    "plt.scatter(x_axis, y_axis, edgecolor = 'black')\n",
    "plt.xlabel('Internet Users by %')\n",
    "plt.ylabel('Healthy life expectancy')\n",
    "plt.title('Healthy life expectancy by % Internet Users')\n",
    "plt.xlim(0,100)\n",
    "plt.savefig('output_data/health.png')\n",
    "plt.grid()"
   ]
  },
  {
   "cell_type": "code",
   "execution_count": null,
   "metadata": {},
   "outputs": [],
   "source": [
    "# Scatterplot of Freedom to Make Life Choices vs. Internet Users by %\n",
    "x_axis = df['Internet_2019']\n",
    "y_axis = df['Freedom to make life choices_2019']\n",
    "plt.scatter(x_axis, y_axis, edgecolor = 'black')\n",
    "plt.xlabel('Internet Users by %')\n",
    "plt.ylabel('Freedom To Make Life Choices')\n",
    "plt.title('Freedom To Make Life Choices by % Internet Users')\n",
    "plt.xlim(0,100)\n",
    "plt.savefig('output_data/freedom.png')\n",
    "plt.grid()"
   ]
  },
  {
   "cell_type": "code",
   "execution_count": null,
   "metadata": {},
   "outputs": [],
   "source": [
    "# Scatterplot of Generosity vs. Internet Users by %\n",
    "x_axis = df['Internet_2019']\n",
    "y_axis = df['Generosity_2019']\n",
    "plt.scatter(x_axis, y_axis, edgecolor = 'black')\n",
    "plt.xlabel('Internet Users by %')\n",
    "plt.ylabel('Generosity')\n",
    "plt.title('Generosity by % Internet Users')\n",
    "plt.xlim(0,100)\n",
    "plt.savefig('output_data/generosity.png')\n",
    "plt.grid()"
   ]
  },
  {
   "cell_type": "code",
   "execution_count": null,
   "metadata": {},
   "outputs": [],
   "source": [
    "# Scatterplot of Perception of Corruption vs. Internet Users by %\n",
    "x_axis = df['Internet_2019']\n",
    "y_axis = df['Perceptions of corruption_2019']\n",
    "plt.scatter(x_axis, y_axis, edgecolor = 'black')\n",
    "plt.xlabel('Internet Users by %')\n",
    "plt.ylabel('Perceptions of corruption')\n",
    "plt.title('Perceptions of corruption by % Internet Users')\n",
    "plt.xlim(0,100)\n",
    "plt.savefig('output_data/trust.png')\n",
    "plt.grid()"
   ]
  },
  {
   "cell_type": "code",
   "execution_count": null,
   "metadata": {},
   "outputs": [],
   "source": [
    "# Linear regression of Overall score vs. Internet Users by %\n",
    "x_values = df['Internet_2019']\n",
    "y_values = df['Score_2019']\n",
    "(slope, intercept, rvalue, pvalue, stderr) = linregress(x_values, y_values)\n",
    "regress_values = x_values * slope + intercept\n",
    "line_eq = \"y = \" + str(round(intercept,2)) + \" + \" + str(round(slope,2)) + \"x\"\n",
    "print(f\"The r-value is {rvalue} with a p-value of {pvalue}.\")\n",
    "plt.scatter(x_values,y_values,edgecolor = 'black')\n",
    "plt.plot(x_values,regress_values,\"r-\")\n",
    "plt.annotate(line_eq,(60,3.5),fontsize=15,color=\"red\")\n",
    "plt.xlabel('Internet Users by %')\n",
    "plt.ylabel('Overall Happiness Score')\n",
    "plt.savefig('output_data/score_regress.png')\n",
    "plt.show()"
   ]
  },
  {
   "cell_type": "markdown",
   "metadata": {},
   "source": [
    "The linear regression for internet users and overall happiness score shows a positve, linear, and strong relationship. The correlation coefficient of 0.77 is statistically significant with a p-value of 2.75e-26. The slope of the regression line shows that as internet usage increases by 1 percent, the overall happiness score increases by 0.03 points."
   ]
  },
  {
   "cell_type": "code",
   "execution_count": null,
   "metadata": {},
   "outputs": [],
   "source": [
    "# Linear regression of GDP per Capita vs. Internet Users by %\n",
    "x_values = df['Internet_2019']\n",
    "y_values = df['GDP per capita_2019']\n",
    "(slope, intercept, rvalue, pvalue, stderr) = linregress(x_values, y_values)\n",
    "regress_values = x_values * slope + intercept\n",
    "line_eq = \"y = \" + str(round(intercept,2)) + \" + \" + str(round(slope,2)) + \"x\"\n",
    "print(f\"The r-value is {rvalue} with a p-value of {pvalue}.\")\n",
    "plt.scatter(x_values,y_values,edgecolor = 'black')\n",
    "plt.plot(x_values,regress_values,\"r-\")\n",
    "plt.annotate(line_eq,(60,0.1),fontsize=15,color=\"red\")\n",
    "plt.xlabel('Internet Users by %')\n",
    "plt.ylabel('GDP per Capita')\n",
    "plt.savefig('output_data/GDP_regess.png')\n",
    "plt.show()"
   ]
  },
  {
   "cell_type": "markdown",
   "metadata": {},
   "source": [
    "The linear regression for internet users and gross domestic product per capita score shows a positve, linear, and strong relationship. The correlation coefficient of 0.91 is statistically significant with a p-value of 1.32e-50. The slope of the regression line shows that as internet usage increases by 1 percent, the gross domestic product per capita score increases by 0.01 points."
   ]
  },
  {
   "cell_type": "code",
   "execution_count": null,
   "metadata": {},
   "outputs": [],
   "source": [
    "# Linear regression of Social Support vs. Internet Users by %\n",
    "x_values = df['Internet_2019']\n",
    "y_values = df['Social support_2019']\n",
    "(slope, intercept, rvalue, pvalue, stderr) = linregress(x_values, y_values)\n",
    "regress_values = x_values * slope + intercept\n",
    "line_eq = \"y = \" + str(round(intercept,2)) + \" + \" + str(round(slope,2)) + \"x\"\n",
    "print(f\"The r-value is {rvalue} with a p-value of {pvalue}.\")\n",
    "plt.scatter(x_values,y_values,edgecolor = 'black')\n",
    "plt.plot(x_values,regress_values,\"r-\")\n",
    "plt.annotate(line_eq,(60,0.45),fontsize=15,color=\"red\")\n",
    "plt.xlabel('Internet Users by %')\n",
    "plt.ylabel('Social Support')\n",
    "plt.savefig('output_data/social_regess.png')\n",
    "plt.show()"
   ]
  },
  {
   "cell_type": "markdown",
   "metadata": {},
   "source": [
    "The linear regression for internet users and social support score shows a positve, linear, and strong relationship. The correlation coefficient of 0.74 is statistically significant with a p-value of 5.75e-23. The slope of the regression line shows that as internet usage increases by 1 percent, the social support score increases by 0.01 points."
   ]
  },
  {
   "cell_type": "code",
   "execution_count": null,
   "metadata": {},
   "outputs": [],
   "source": [
    "# Linear regression of Healthy Life Expectancy vs. Internet Users by %\n",
    "x_values = df['Internet_2019']\n",
    "y_values = df['Healthy life expectancy_2019']\n",
    "(slope, intercept, rvalue, pvalue, stderr) = linregress(x_values, y_values)\n",
    "regress_values = x_values * slope + intercept\n",
    "line_eq = \"y = \" + str(round(intercept,2)) + \" + \" + str(round(slope,2)) + \"x\"\n",
    "print(f\"The r-value is {rvalue} with a p-value of {pvalue}.\")\n",
    "plt.scatter(x_values,y_values,edgecolor = 'black')\n",
    "plt.plot(x_values,regress_values,\"r-\")\n",
    "plt.annotate(line_eq,(60,0.2),fontsize=15,color=\"red\")\n",
    "plt.xlabel('Internet Users by %')\n",
    "plt.ylabel('Healthy Life Expectancy')\n",
    "plt.savefig('output_data/health_regess.png')\n",
    "plt.show()"
   ]
  },
  {
   "cell_type": "markdown",
   "metadata": {},
   "source": [
    "The linear regression for internet users and healthy life expectancy score shows a positve, linear, and strong relationship. The correlation coefficient of 0.85 is statistically significant with a p-value of 7.81e-37. The slope of the regression line shows that as internet usage increases by 1 percent, the healthy life expectancy score increases by 0.01 points."
   ]
  },
  {
   "cell_type": "code",
   "execution_count": null,
   "metadata": {},
   "outputs": [],
   "source": [
    "# Linear regression of Freedom to Make Life Choices vs. Internet Users by %\n",
    "x_values = df['Internet_2019']\n",
    "y_values = df['Freedom to make life choices_2019']\n",
    "(slope, intercept, rvalue, pvalue, stderr) = linregress(x_values, y_values)\n",
    "regress_values = x_values * slope + intercept\n",
    "line_eq = \"y = \" + str(round(intercept,2)) + \" + \" + str(round(slope,4)) + \"x\"\n",
    "print(f\"The r-value is {rvalue} with a p-value of {pvalue}.\")\n",
    "plt.scatter(x_values,y_values,edgecolor = 'black')\n",
    "plt.plot(x_values,regress_values,\"r-\")\n",
    "plt.annotate(line_eq,(55,0),fontsize=15,color=\"red\")\n",
    "plt.xlabel('Internet Users by %')\n",
    "plt.ylabel('Freedom to Make Life Choices')\n",
    "plt.savefig('output_data/freedom_regess.png')\n",
    "plt.show()"
   ]
  },
  {
   "cell_type": "markdown",
   "metadata": {},
   "source": [
    "The linear regression for internet users and freedom to make life choices score shows a positve but weak relationship. The correlation coefficient of 0.34 is statistically significant with a p-value of 0.0001. The slope of the regression line shows that as internet usage increases by 1 percent, the freedom to make life choices score increases by 0.0016 points."
   ]
  },
  {
   "cell_type": "code",
   "execution_count": null,
   "metadata": {},
   "outputs": [],
   "source": [
    "# Linear regression of Generosity vs. Internet Users by %\n",
    "x_values = df['Internet_2019']\n",
    "y_values = df['Generosity_2019']\n",
    "(slope, intercept, rvalue, pvalue, stderr) = linregress(x_values, y_values)\n",
    "regress_values = x_values * slope + intercept\n",
    "line_eq = \"y = \" + str(round(intercept,2)) + \" + \" + str(round(slope,4)) + \"x\"\n",
    "print(f\"The r-value is {rvalue} with a p-value of {pvalue}.\")\n",
    "plt.scatter(x_values,y_values,edgecolor = 'black')\n",
    "plt.plot(x_values,regress_values,\"r-\")\n",
    "plt.annotate(line_eq,(55,0.5),fontsize=15,color=\"red\")\n",
    "plt.xlabel('Internet Users by %')\n",
    "plt.ylabel('Generosity')\n",
    "plt.savefig('output_data/generosity_regess.png')\n",
    "plt.show()"
   ]
  },
  {
   "cell_type": "markdown",
   "metadata": {},
   "source": [
    "The linear regression for internet users and generosity score shows a negative and weak/no relationship. The correlation coefficient of -0.11 is not significant with a p-value of 0.21. We do not have evidence that there is association between internet users and generosity score."
   ]
  },
  {
   "cell_type": "code",
   "execution_count": null,
   "metadata": {},
   "outputs": [],
   "source": [
    "# Linear regression of Perceptions of Corruption vs. Internet Users by %\n",
    "x_values = df['Internet_2019']\n",
    "y_values = df['Perceptions of corruption_2019']\n",
    "(slope, intercept, rvalue, pvalue, stderr) = linregress(x_values, y_values)\n",
    "regress_values = x_values * slope + intercept\n",
    "line_eq = \"y = \" + str(round(intercept,2)) + \" + \" + str(round(slope,4)) + \"x\"\n",
    "print(f\"The r-value is {rvalue} with a p-value of {pvalue}.\")\n",
    "plt.scatter(x_values,y_values,edgecolor = 'black')\n",
    "plt.plot(x_values,regress_values,\"r-\")\n",
    "plt.annotate(line_eq,(35,0.4),fontsize=15,color=\"red\")\n",
    "plt.xlabel('Internet Users by %')\n",
    "plt.ylabel('Perceptions of Corruption')\n",
    "plt.savefig('output_data/trust_regess.png')\n",
    "plt.show()"
   ]
  },
  {
   "cell_type": "markdown",
   "metadata": {},
   "source": [
    "The linear regression for internet users and perception of corruption score shows a positve but weak relationship. The correlation coefficient of 0.31 is statistically significant with a p-value of 0.0004. The slope of the regression line shows that as internet usage increases by 1 percent, the perception of corruption score increases by 0.0011 points."
   ]
  },
  {
   "cell_type": "code",
   "execution_count": null,
   "metadata": {},
   "outputs": [],
   "source": [
    "# dataFrame with only 2019  \n",
    "df_2019 = df[['Country', 'Score_2019', 'Social support_2019', 'GDP per capita_2019', 'Healthy life expectancy_2019', 'Freedom to make life choices_2019', 'Generosity_2019', 'Perceptions of corruption_2019', 'Internet_2019']]\n",
    "df_2019 = df_2019.rename(columns = {'Country': 'Country','Score_2019':'Score', 'Social support_2019':'Social', 'GDP per capita_2019':'GDP', 'Healthy life expectancy_2019':'Health', 'Freedom to make life choices_2019':'Freedom', 'Generosity_2019':'Generosity', 'Perceptions of corruption_2019':'Trust', 'Internet_2019':'Users'})\n",
    "df_2019.head()"
   ]
  },
  {
   "cell_type": "code",
   "execution_count": null,
   "metadata": {},
   "outputs": [],
   "source": [
    "# scatterplot matrix of 2019 showing every category versus each other\n",
    "pd.plotting.scatter_matrix(df_2019, figsize = (15,10))"
   ]
  },
  {
   "cell_type": "code",
   "execution_count": null,
   "metadata": {},
   "outputs": [],
   "source": [
    "# Steve's code ends here"
   ]
  },
  {
   "cell_type": "code",
   "execution_count": null,
   "metadata": {},
   "outputs": [],
   "source": [
    "# Rebecca's code begins here (line graphs of happiness/internet usage over time)"
   ]
  },
  {
   "cell_type": "code",
   "execution_count": null,
   "metadata": {},
   "outputs": [],
   "source": [
    "df.head()"
   ]
  },
  {
   "cell_type": "code",
   "execution_count": null,
   "metadata": {},
   "outputs": [],
   "source": [
    "# Find averages for happiness scores for each year\n",
    "happiness_2015 = df[\"Happiness Score_2015\"].mean()\n",
    "happiness_2016 = df[\"Happiness Score_2016\"].mean()\n",
    "happiness_2017 = df[\"Happiness.Score_2017\"].mean()\n",
    "happiness_2018 = df[\"Score_2018\"].mean()\n",
    "happiness_2019 = df[\"Score_2019\"].mean()"
   ]
  },
  {
   "cell_type": "code",
   "execution_count": null,
   "metadata": {},
   "outputs": [],
   "source": [
    "# Create x and y axis\n",
    "years = [\"2015\", \"2016\", \"2017\", \"2018\", \"2019\"]\n",
    "average_happiness_scores = [happiness_2015, happiness_2016, happiness_2017, happiness_2018, happiness_2019]"
   ]
  },
  {
   "cell_type": "code",
   "execution_count": null,
   "metadata": {},
   "outputs": [],
   "source": [
    "average_happiness = plt.plot(years, average_happiness_scores, marker=\"o\")\n",
    "\n",
    "plt.ylim(0,8)\n",
    "\n",
    "plt.title(\"Average Happiness Score Per Year\")\n",
    "plt.xlabel(\"Years\")\n",
    "plt.ylabel(\"Average Happiness Scores\")\n",
    "\n",
    "plt.savefig(\"output_data/average_happiness.png\")\n",
    "\n",
    "plt.show"
   ]
  },
  {
   "cell_type": "code",
   "execution_count": null,
   "metadata": {},
   "outputs": [],
   "source": [
    "# initialize list of averages per year\n",
    "data = [[happiness_2015, happiness_2016, happiness_2017, happiness_2018, happiness_2019]]\n",
    "  \n",
    "# Create the pandas DataFrame showing the average happiness scores per year\n",
    "average_scores = pd.DataFrame(data, columns = ['2015', \"2016\", \"2017\", \"2018\", \"2019\"]) \n",
    "average_scores"
   ]
  },
  {
   "cell_type": "markdown",
   "metadata": {},
   "source": [
    "The above line graph showcases the average happiness scores globally from 2015 to 2019. Illustrated by this line graph, year over year there is not a significant increase in average happiness scores. Shown in the DataFrame above, the average scores increased very slightly. This suggests that year over year, average happiness does not vary vastly. "
   ]
  },
  {
   "cell_type": "code",
   "execution_count": null,
   "metadata": {},
   "outputs": [],
   "source": [
    "# Find average percentage of Internet users for each year\n",
    "internet_users_2015 = df[\"Internet_2015\"].mean()\n",
    "internet_users_2016 = df[\"Internet_2016\"].mean()\n",
    "internet_users_2017 = df[\"Internet_2017\"].mean()\n",
    "internet_users_2018 = df[\"Internet_2018\"].mean()\n",
    "internet_users_2019 = df[\"Internet_2019\"].mean()"
   ]
  },
  {
   "cell_type": "code",
   "execution_count": null,
   "metadata": {},
   "outputs": [],
   "source": [
    "# Create x and y axis\n",
    "years = [\"2015\", \"2016\", \"2017\", \"2018\", \"2019\"]\n",
    "average_internet_users = [internet_users_2015, internet_users_2016, internet_users_2017, internet_users_2018, internet_users_2019]"
   ]
  },
  {
   "cell_type": "code",
   "execution_count": null,
   "metadata": {},
   "outputs": [],
   "source": [
    "# Create line chart showing the average percentage of Internet users per year\n",
    "average_internet_users = plt.plot(years, average_internet_users, marker=\"o\")\n",
    "\n",
    "plt.ylim(0,100)\n",
    "\n",
    "plt.title(\"Average Percentage of Internet Users Per Year\")\n",
    "plt.xlabel(\"Years\")\n",
    "plt.ylabel(\"Average Percentage of Internet Users\")\n",
    "\n",
    "plt.savefig(\"output_data/average_internet.png\")\n",
    "\n",
    "plt.show"
   ]
  },
  {
   "cell_type": "code",
   "execution_count": null,
   "metadata": {},
   "outputs": [],
   "source": [
    "# initialize list of averages per year\n",
    "data = [[internet_users_2015, internet_users_2016, internet_users_2017, internet_users_2018, internet_users_2019]]\n",
    "  \n",
    "# Create the pandas DataFrame showing the average internet users per year\n",
    "average_internet_scores = pd.DataFrame(data, columns = ['2015', \"2016\", \"2017\", \"2018\", \"2019\"]) \n",
    "average_internet_scores"
   ]
  },
  {
   "cell_type": "markdown",
   "metadata": {},
   "source": [
    "The above line graph shows the average percentage of Internet users globally from 2015 to 2019. Illustrated by this line graph, from 2015 to 2019 there was a slight increase in average percentage of Internet users. The DataFrame above is used to show the averages year over year. From 2015 to 2019, there was a 18% increase in average number of Internet users."
   ]
  },
  {
   "cell_type": "code",
   "execution_count": null,
   "metadata": {},
   "outputs": [],
   "source": [
    "# Rebecca's code ends here"
   ]
  },
  {
   "cell_type": "code",
   "execution_count": null,
   "metadata": {},
   "outputs": [],
   "source": [
    "# Daniel's code begins here (interesting bins!/further testing)"
   ]
  },
  {
   "cell_type": "code",
   "execution_count": null,
   "metadata": {},
   "outputs": [],
   "source": [
    "# Box and Whisker plots of Happiness across years\n",
    "happiness_scores = [df[\"Happiness Score_2015\"],\n",
    "                   df[\"Happiness Score_2016\"],\n",
    "                   df[\"Happiness.Score_2017\"],\n",
    "                   df[\"Score_2018\"],\n",
    "                   df[\"Score_2019\"]]\n",
    "plt.figure(figsize=(8,6))\n",
    "plt.boxplot(happiness_scores,labels=[\"2015\",\"2016\",\"2017\",\"2018\",\"2019\"])\n",
    "plt.title(\"Happiness Scores of all countries\")\n",
    "plt.ylabel(\"Happiness Score\")\n",
    "plt.ylim(0,8)\n",
    "plt.savefig(\"output_data/happiness_boxplot.png\")\n",
    "plt.show()"
   ]
  },
  {
   "cell_type": "markdown",
   "metadata": {},
   "source": [
    "This box and whisker plot shows the distribution of happiness scores over the course of five years. While most appear nearly identical, 2019 does show slight differences. The median values are also very close to the mean values found previously, showing that the spread of the data is not significantly skewed."
   ]
  },
  {
   "cell_type": "code",
   "execution_count": null,
   "metadata": {},
   "outputs": [],
   "source": [
    "# In order to determine if there is a significant difference between years, run ANOVA\n",
    "f_oneway(df[\"Happiness Score_2015\"],\n",
    "               df[\"Happiness Score_2016\"],\n",
    "              df[\"Happiness.Score_2017\"],\n",
    "              df[\"Score_2018\"],\n",
    "              df[\"Score_2019\"])"
   ]
  },
  {
   "cell_type": "markdown",
   "metadata": {},
   "source": [
    "To determine whether 2019 (or any particular year) has a significantly different mean value, we also ran an ANOVA test on all the years. The p-value of 0.9656 indicates that we cannot reject the hypothesis that these years had similar means, and we cannot conclude that any year's happiness scores were significantly different from another year."
   ]
  },
  {
   "cell_type": "code",
   "execution_count": null,
   "metadata": {},
   "outputs": [],
   "source": [
    "# Box and Whisker plots of Internet Users across years\n",
    "internet_users = [df[\"Internet_2015\"],\n",
    "                   df[\"Internet_2016\"],\n",
    "                   df[\"Internet_2017\"],\n",
    "                   df[\"Internet_2018\"],\n",
    "                   df[\"Internet_2019\"]]\n",
    "plt.figure(figsize=(8,6))\n",
    "plt.boxplot(internet_users,labels=[\"2015\",\"2016\",\"2017\",\"2018\",\"2019\"])\n",
    "plt.title(\"Internet Usage of all countries\")\n",
    "plt.ylabel(\"% of Population using Internet\")\n",
    "plt.ylim(0,100)\n",
    "plt.savefig(\"output_data/internet_boxplot.png\")\n",
    "plt.show()"
   ]
  },
  {
   "cell_type": "markdown",
   "metadata": {},
   "source": [
    "Similarly, we created a box and whisker plot of the internet usage across five years. These results show what appears to be a general increase in the median value over time (a similar trend to the increasing mean values over time). The median values are higher, and we do see a larger 2nd quartile than 3rd quartile each year, which is consistently showing a skew toward more countries with a small percentage of users."
   ]
  },
  {
   "cell_type": "code",
   "execution_count": null,
   "metadata": {},
   "outputs": [],
   "source": [
    "# Run ANOVA test for Internet Users\n",
    "f_oneway(df[\"Internet_2015\"],\n",
    "               df[\"Internet_2016\"],\n",
    "              df[\"Internet_2017\"],\n",
    "              df[\"Internet_2018\"],\n",
    "              df[\"Internet_2019\"])"
   ]
  },
  {
   "cell_type": "markdown",
   "metadata": {},
   "source": [
    "To examine the hypothesis that there actually is a significant difference in internet users for specific years, we ran an ANOVA test with the internet usage data. With a p-value of 0.0563 we just barely failed to reject the null hypothesis, meaning we cannot conclude a significant difference across these five years."
   ]
  },
  {
   "cell_type": "code",
   "execution_count": null,
   "metadata": {},
   "outputs": [],
   "source": [
    "# Assuming one of the years may be responsible for a low p-value, try taking out each year one at a time\n",
    "remove_2015 = f_oneway(df[\"Internet_2016\"],\n",
    "        df[\"Internet_2017\"],\n",
    "        df[\"Internet_2018\"],\n",
    "        df[\"Internet_2019\"])\n",
    "\n",
    "remove_2016 = f_oneway(df[\"Internet_2015\"],\n",
    "        df[\"Internet_2017\"],\n",
    "        df[\"Internet_2018\"],\n",
    "        df[\"Internet_2019\"])\n",
    "\n",
    "remove_2017 = f_oneway(df[\"Internet_2015\"],\n",
    "        df[\"Internet_2016\"],\n",
    "        df[\"Internet_2018\"],\n",
    "        df[\"Internet_2019\"])\n",
    "\n",
    "remove_2018 = f_oneway(df[\"Internet_2015\"],\n",
    "        df[\"Internet_2016\"],\n",
    "        df[\"Internet_2017\"],\n",
    "        df[\"Internet_2019\"])\n",
    "\n",
    "remove_2019 = f_oneway(df[\"Internet_2015\"],\n",
    "        df[\"Internet_2016\"],\n",
    "        df[\"Internet_2017\"],\n",
    "        df[\"Internet_2018\"])\n",
    "\n",
    "print(f\"Removing 2015 gives a p-value of {remove_2015}\")\n",
    "print(f\"Removing 2016 gives a p-value of {remove_2016}\")\n",
    "print(f\"Removing 2017 gives a p-value of {remove_2017}\")\n",
    "print(f\"Removing 2018 gives a p-value of {remove_2018}\")\n",
    "print(f\"Removing 2019 gives a p-value of {remove_2019}\")"
   ]
  },
  {
   "cell_type": "markdown",
   "metadata": {},
   "source": [
    "Because the p-value was so close to being able to reject the null hypothesis in the ANOVA test for internet usage, we did explore what it would look like to omit a year's data. When removing 2016, 2017, or 2018, we did see a smaller p-value, indicating that there would be significant differences between those datasets.\n",
    "\n",
    "We decided since it was so close, we would not explore the data further through combining all the years of data, but restrict our study to the single year of data that we saw above."
   ]
  },
  {
   "cell_type": "code",
   "execution_count": null,
   "metadata": {},
   "outputs": [],
   "source": [
    "# Subtract leading subscores with high correlations (GDP, Social Support, Health Care)\n",
    "df_2019[\"Modified Score\"] = (df_2019[\"Score\"]) - (df_2019[\"Social\"]) - (df_2019[\"GDP\"]) - (df_2019[\"Health\"])\n",
    "df_2019.head()"
   ]
  },
  {
   "cell_type": "markdown",
   "metadata": {},
   "source": [
    "We created a \"modified happiness score\" by taking out some of the factors that were also correlated with internet usage (GDP, Social Support, Health) to see if we could isolate the effect of internet usage on the Happiness Score. We can do this by simply subtracting those from the overall score (since the Happiness Score is defined as the sum of the six subscores)."
   ]
  },
  {
   "cell_type": "code",
   "execution_count": null,
   "metadata": {},
   "outputs": [],
   "source": [
    "# Run a linear regression to determine strength of relationship between\n",
    "# this modified score and internet users\n",
    "x_values = df_2019['Users']\n",
    "y_values = df_2019['Modified Score']\n",
    "(slope, intercept, rvalue, pvalue, stderr) = linregress(x_values, y_values)\n",
    "regress_values = x_values * slope + intercept\n",
    "line_eq = \"y = \" + str(round(intercept,2)) + \" + \" + str(round(slope,2)) + \"x\"\n",
    "print(f\"The r-value is {rvalue} with a p-value of {pvalue}.\")\n",
    "plt.scatter(x_values,y_values,edgecolor = 'black')\n",
    "plt.plot(x_values,regress_values,\"r-\")\n",
    "plt.annotate(line_eq,(60,1),fontsize=15,color=\"red\")\n",
    "plt.xlabel('Internet Users by %')\n",
    "plt.ylabel('MODIFIED Happiness Score')\n",
    "plt.savefig(\"output_data/modified_correlation.png\")\n",
    "plt.show()"
   ]
  },
  {
   "cell_type": "markdown",
   "metadata": {},
   "source": [
    "In removing those factors, we found an extremely low r-value, indicating almost no relationship between internet usage and the remaining factors of Happiness, further supporting the results we had already found."
   ]
  },
  {
   "cell_type": "code",
   "execution_count": null,
   "metadata": {},
   "outputs": [],
   "source": [
    "# Just looking at countries with a percentage of users less than 50%\n",
    "below_50 = df[df[\"Internet_2019\"] < 50]\n",
    "below_50[\"Country\"].count()"
   ]
  },
  {
   "cell_type": "code",
   "execution_count": null,
   "metadata": {},
   "outputs": [],
   "source": [
    "# Just looking at countries with a percentage of users greater than or equal to 50%\n",
    "above_50 = df[df[\"Internet_2019\"] >= 50]\n",
    "above_50[\"Country\"].count()"
   ]
  },
  {
   "cell_type": "markdown",
   "metadata": {},
   "source": [
    "Since the data for internet usage did appear to be bi-modal, we decided to examine countries in two groups (those with a majority of their population using the internet and those with a minority of their population using the internet). We found 45 countries with less than 50% internet usage, and 81 countries with above 50% internet usage."
   ]
  },
  {
   "cell_type": "code",
   "execution_count": null,
   "metadata": {},
   "outputs": [],
   "source": [
    "# Generate a scatterplot of countries below and above 50% in order to see if this makes for stronger/weaker correlations\n",
    "\n",
    "plt.figure(figsize=(12,6))\n",
    "\n",
    "plt.subplot(1, 2, 1)\n",
    "x_values = below_50['Internet_2019']\n",
    "y_values = below_50['Score_2019']\n",
    "(slope, intercept, rvalue, pvalue, stderr) = linregress(x_values, y_values)\n",
    "regress_values = x_values * slope + intercept\n",
    "line_eq = \"y = \" + str(round(slope,2)) + \"x + \" + str(round(intercept,2))\n",
    "print(f\"The r-value is {rvalue}.\")\n",
    "plt.scatter(x_values,y_values,edgecolor = 'black')\n",
    "plt.plot(x_values,regress_values,\"r-\")\n",
    "plt.title(\"Happiness vs. Internet Usage (below 50%)\")\n",
    "plt.xlabel('Internet Users by %')\n",
    "plt.ylabel('Overall Happiness Score')\n",
    "\n",
    "\n",
    "plt.subplot(1, 2, 2)\n",
    "x_values = above_50['Internet_2019']\n",
    "y_values = above_50['Score_2019']\n",
    "(slope, intercept, rvalue, pvalue, stderr) = linregress(x_values, y_values)\n",
    "regress_values = x_values * slope + intercept\n",
    "line_eq = \"y = \" + str(round(slope,2)) + \"x + \" + str(round(intercept,2))\n",
    "print(f\"The r-value is {rvalue}.\")\n",
    "plt.scatter(x_values,y_values,edgecolor = 'black')\n",
    "plt.plot(x_values,regress_values,\"r-\")\n",
    "plt.title(\"Happiness vs. Internet Usage (above 50%)\")\n",
    "plt.xlabel('Internet Users by %')\n",
    "\n",
    "plt.savefig(\"output_data/happiness_above_below_50.png\")\n",
    "plt.show()"
   ]
  },
  {
   "cell_type": "markdown",
   "metadata": {},
   "source": [
    "In looking at the correlation with Happiness Score for these two subsets, we see a minor correlation (r-value of 0.3351) for countries with less than 50% internet usage, and a stronger correlation (r-value of 0.6607) for countries with higher than 50% internet usage."
   ]
  },
  {
   "cell_type": "code",
   "execution_count": null,
   "metadata": {},
   "outputs": [],
   "source": [
    "# Compare Generosity vs. Internet Users\n",
    "plt.figure(figsize=(12,6))\n",
    "\n",
    "plt.subplot(1, 2, 1)\n",
    "x_values = below_50['Internet_2019']\n",
    "y_values = below_50['Generosity_2019']\n",
    "(slope, intercept, rvalue, pvalue, stderr) = linregress(x_values, y_values)\n",
    "regress_values = x_values * slope + intercept\n",
    "line_eq = \"y = \" + str(round(slope,2)) + \"x + \" + str(round(intercept,2))\n",
    "print(f\"The r-value is {rvalue}.\")\n",
    "plt.scatter(x_values,y_values,edgecolor = 'black')\n",
    "plt.plot(x_values,regress_values,\"r-\")\n",
    "plt.title(\"Generosity vs. Internet Usage (below 50%)\")\n",
    "plt.xlabel('Internet Users by %')\n",
    "plt.ylabel('Generosity')\n",
    "\n",
    "\n",
    "plt.subplot(1, 2, 2)\n",
    "x_values = above_50['Internet_2019']\n",
    "y_values = above_50['Generosity_2019']\n",
    "(slope, intercept, rvalue, pvalue, stderr) = linregress(x_values, y_values)\n",
    "regress_values = x_values * slope + intercept\n",
    "line_eq = \"y = \" + str(round(slope,2)) + \"x + \" + str(round(intercept,2))\n",
    "print(f\"The r-value is {rvalue}.\")\n",
    "plt.scatter(x_values,y_values,edgecolor = 'black')\n",
    "plt.plot(x_values,regress_values,\"r-\")\n",
    "plt.title(\"Generosity vs. Internet Usage (above 50%)\")\n",
    "plt.xlabel('Internet Users by %')\n",
    "\n",
    "plt.savefig(\"output_data/generosity_vs_internet_above_below_50.png\")\n",
    "plt.show()"
   ]
  },
  {
   "cell_type": "markdown",
   "metadata": {},
   "source": [
    "The other subscore that looked like it could have a big difference for countries with less than or greater than 50% internet usage was Generosity. While the overall correlation (including all countries) was slightly negative– but very weak– we did see a minor correlation between generosity and internet usage in countries with a majority of users having access to the internet (r-value of 0.3836)."
   ]
  },
  {
   "cell_type": "code",
   "execution_count": null,
   "metadata": {},
   "outputs": [],
   "source": [
    "# Daniel's code ends here"
   ]
  },
  {
   "cell_type": "markdown",
   "metadata": {},
   "source": [
    "# Data Analysis and Summary\n",
    "\n",
    "## Is there a correlation between a country's level of happiness and percentage of internet users? Does a country's happiness decrease as the percentage of internet users increase?\n",
    "\n",
    "We have found that there is a correlation between a country's level of happiness and percentage of internet users in that country. With an r-value of 0.77, we have a strong, positive association between the overall happiness score and the percentage of internet users, p-value = 2.75e-26. A countries happiness does not decrease as the percentage of internet users increases. Based on the linear regression model, the overall happiness score increases 0.03 points\n",
    "as the percentage of internet use increases by one percent.\n",
    "\n",
    "When looking at changes over time (2015 – 2019), our ANOVA testing showed that there was no significant change between the average happiness scores globally (p-value of 0.96), but there was a significant difference between some of the years in percentage of internet users (some p-values below 0.05). A closer analysis and a survey of additional years might be needed to form a solid conclusion, but this makes it more complicated to link internet usage and happiness score directly.\n",
    "\n",
    "We also learned that for countries with a majority of their population using the internet, there was a stronger correlation than for countries with a minority of their population using the internet (r-value of 0.66 compared to 0.34)."
   ]
  },
  {
   "cell_type": "markdown",
   "metadata": {},
   "source": [
    "## Looking at the six factors analyzed in a country's happiness score, is there a relationship between a country's score and percentage of internet users?\n",
    "\n",
    "Looking at the six factors analyzed in a country's happiness score, we found that three of factors have a strong association and three have a weak or no association with the percentage of internet users in a country. GDP per capita, social support, and healthy life expectancy all had correlation coefficients above 0.7 indicating they are strongly associated with internet usage. Freedom to make life choices and perception of corruptions each were weakly, yet positively, associated with internet usage, with correlation coefficients of 0.34 and 0.31 respectively. Generosity was found to have no association with internet usage.\n",
    "\n",
    "When attempting to isolate some of these variables by subtracting the components of the Happiness Score that were highly correlated, we did not find any correlation to the \"modified\" happiness score. This strengthens the idea that internet usage is more directly related to GDP, Social Support, or Health in a country, which in turn adds to the country's happiness score. Causation is not clear in these relationships– a higher GDP could mean internet access is more affordable, or the population have more free time to use the internet at home, for example.\n",
    "\n",
    "Finally, when examining Generosity more closely (using the 50% subdivision by internet usage), we did see a positive and weak/minor correlation with internet usage, suggesting that there may be different impacts based on what society's use of the internet looks like as a whole."
   ]
  }
 ],
 "metadata": {
  "kernelspec": {
   "display_name": "Python 3",
   "language": "python",
   "name": "python3"
  },
  "language_info": {
   "codemirror_mode": {
    "name": "ipython",
    "version": 3
   },
   "file_extension": ".py",
   "mimetype": "text/x-python",
   "name": "python",
   "nbconvert_exporter": "python",
   "pygments_lexer": "ipython3",
   "version": "3.8.5"
  }
 },
 "nbformat": 4,
 "nbformat_minor": 4
}
