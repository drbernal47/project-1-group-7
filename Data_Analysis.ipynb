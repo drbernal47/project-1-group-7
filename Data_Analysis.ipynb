{
 "cells": [
  {
   "cell_type": "code",
   "execution_count": null,
   "metadata": {},
   "outputs": [],
   "source": [
    "import pandas as pd\n",
    "import matplotlib.pyplot as plt\n",
    "import numpy as np\n",
    "from scipy.stats import linregress"
   ]
  },
  {
   "cell_type": "code",
   "execution_count": null,
   "metadata": {},
   "outputs": [],
   "source": [
    "# Mason's code begins here (Read data from cleaned up file & create a dataframe with just 2019 data)"
   ]
  },
  {
   "cell_type": "code",
   "execution_count": null,
   "metadata": {},
   "outputs": [],
   "source": [
    "#import df from cleaned data notebook\n",
    "data_df=pd.read_csv('merged.tsv', sep='\\t')"
   ]
  },
  {
   "cell_type": "code",
   "execution_count": null,
   "metadata": {},
   "outputs": [],
   "source": [
    "data_df"
   ]
  },
  {
   "cell_type": "code",
   "execution_count": null,
   "metadata": {},
   "outputs": [],
   "source": [
    "df=data_df.drop(\"Unnamed: 0\", axis=1)\n",
    "df"
   ]
  },
  {
   "cell_type": "code",
   "execution_count": null,
   "metadata": {},
   "outputs": [],
   "source": [
    "# Mason's code ends here"
   ]
  },
  {
   "cell_type": "code",
   "execution_count": null,
   "metadata": {},
   "outputs": [],
   "source": [
    "# Steve's code begins here (scatterplots & linear regression for happiness & six factors)\n",
    "df = df.dropna()\n",
    "len(df)"
   ]
  },
  {
   "cell_type": "code",
   "execution_count": null,
   "metadata": {},
   "outputs": [],
   "source": [
    "# Scatterplot of Overall Happiness Score vs. Internet Users by %\n",
    "x_axis = df['Internet_2019']\n",
    "y_axis = df['Score_2019']\n",
    "plt.scatter(x_axis, y_axis, edgecolor = 'black')\n",
    "plt.xlabel('Internet Users by %')\n",
    "plt.ylabel('Overall Happiness Score')\n",
    "plt.title('Happiness Score by % Internet Users')\n",
    "plt.xlim(0,100)\n",
    "plt.grid()"
   ]
  },
  {
   "cell_type": "code",
   "execution_count": null,
   "metadata": {},
   "outputs": [],
   "source": [
    "# Scatterplot of GDP per Capita vs. Internet Users by %\n",
    "x_axis = df['Internet_2019']\n",
    "y_axis = df['GDP per capita_2019']\n",
    "plt.scatter(x_axis, y_axis, edgecolor = 'black')\n",
    "plt.xlabel('Internet Users by %')\n",
    "plt.ylabel('GDP per Capita')\n",
    "plt.title('Gross Domestic Product per Capita by % Inernet Users')\n",
    "plt.xlim(0,100)\n",
    "plt.grid()"
   ]
  },
  {
   "cell_type": "code",
   "execution_count": null,
   "metadata": {},
   "outputs": [],
   "source": [
    "# Scatterplot of Social Support vs. Internet Users by %\n",
    "x_axis = df['Internet_2019']\n",
    "y_axis = df['Social support_2019']\n",
    "plt.scatter(x_axis, y_axis, edgecolor = 'black')\n",
    "plt.xlabel('Internet Users by %')\n",
    "plt.ylabel('Social support')\n",
    "plt.title('Social Support by % Internet Users')\n",
    "plt.xlim(0,100)\n",
    "plt.grid()"
   ]
  },
  {
   "cell_type": "code",
   "execution_count": null,
   "metadata": {},
   "outputs": [],
   "source": [
    "# Scatterplot of Healthy Life Expectancy vs. Internet Users by %\n",
    "x_axis = df['Internet_2019']\n",
    "y_axis = df['Healthy life expectancy_2019']\n",
    "plt.scatter(x_axis, y_axis, edgecolor = 'black')\n",
    "plt.xlabel('Internet Users by %')\n",
    "plt.ylabel('Healthy life expectancy')\n",
    "plt.title('Healthy life expectancy by % Internet Users')\n",
    "plt.xlim(0,100)\n",
    "plt.grid()"
   ]
  },
  {
   "cell_type": "code",
   "execution_count": null,
   "metadata": {},
   "outputs": [],
   "source": [
    "# Scatterplot of Freedom to Make Life Choices vs. Internet Users by %\n",
    "x_axis = df['Internet_2019']\n",
    "y_axis = df['Freedom to make life choices_2019']\n",
    "plt.scatter(x_axis, y_axis, edgecolor = 'black')\n",
    "plt.xlabel('Internet Users by %')\n",
    "plt.ylabel('Freedom To Make Life Choices')\n",
    "plt.title('Freedom To Make Life Choices by % Internet Users')\n",
    "plt.xlim(0,100)\n",
    "plt.grid()"
   ]
  },
  {
   "cell_type": "code",
   "execution_count": null,
   "metadata": {},
   "outputs": [],
   "source": [
    "# Scatterplot of Generosity vs. Internet Users by %\n",
    "x_axis = df['Internet_2019']\n",
    "y_axis = df['Generosity_2019']\n",
    "plt.scatter(x_axis, y_axis, edgecolor = 'black')\n",
    "plt.xlabel('Internet Users by %')\n",
    "plt.ylabel('Generosity')\n",
    "plt.title('Generosity by % Internet Users')\n",
    "plt.xlim(0,100)\n",
    "plt.grid()"
   ]
  },
  {
   "cell_type": "code",
   "execution_count": null,
   "metadata": {},
   "outputs": [],
   "source": [
    "# Scatterplot of Perception of Corruption vs. Internet Users by %\n",
    "x_axis = df['Internet_2019']\n",
    "y_axis = df['Perceptions of corruption_2019']\n",
    "plt.scatter(x_axis, y_axis, edgecolor = 'black')\n",
    "plt.xlabel('Internet Users by %')\n",
    "plt.ylabel('Perceptions of corruption')\n",
    "plt.title('Perceptions of corruption by % Internet Users')\n",
    "plt.xlim(0,100)\n",
    "plt.grid()"
   ]
  },
  {
   "cell_type": "code",
   "execution_count": null,
   "metadata": {},
   "outputs": [],
   "source": [
    "x_values = df['Internet_2019']\n",
    "y_values = df['Score_2019']\n",
    "(slope, intercept, rvalue, pvalue, stderr) = linregress(x_values, y_values)\n",
    "regress_values = x_values * slope + intercept\n",
    "line_eq = \"y = \" + str(round(intercept,2)) + \" + \" + str(round(slope,2)) + \"x\"\n",
    "print(f\"The r-value is {rvalue} with a p-value of {pvalue}.\")\n",
    "plt.scatter(x_values,y_values,edgecolor = 'black')\n",
    "plt.plot(x_values,regress_values,\"r-\")\n",
    "plt.annotate(line_eq,(60,3.5),fontsize=15,color=\"red\")\n",
    "plt.xlabel('Internet Users by %')\n",
    "plt.ylabel('Overall Happiness Score')\n",
    "plt.show()"
   ]
  },
  {
   "cell_type": "code",
   "execution_count": null,
   "metadata": {},
   "outputs": [],
   "source": [
    "x_values = df['Internet_2019']\n",
    "y_values = df['GDP per capita_2019']\n",
    "(slope, intercept, rvalue, pvalue, stderr) = linregress(x_values, y_values)\n",
    "regress_values = x_values * slope + intercept\n",
    "line_eq = \"y = \" + str(round(intercept,2)) + \" + \" + str(round(slope,2)) + \"x\"\n",
    "print(f\"The r-value is {rvalue} with a p-value of {pvalue}.\")\n",
    "plt.scatter(x_values,y_values,edgecolor = 'black')\n",
    "plt.plot(x_values,regress_values,\"r-\")\n",
    "plt.annotate(line_eq,(60,0.1),fontsize=15,color=\"red\")\n",
    "plt.xlabel('Internet Users by %')\n",
    "plt.ylabel('GDP per Capita')\n",
    "plt.show()"
   ]
  },
  {
   "cell_type": "code",
   "execution_count": null,
   "metadata": {},
   "outputs": [],
   "source": [
    "x_values = df['Internet_2019']\n",
    "y_values = df['Social support_2019']\n",
    "(slope, intercept, rvalue, pvalue, stderr) = linregress(x_values, y_values)\n",
    "regress_values = x_values * slope + intercept\n",
    "line_eq = \"y = \" + str(round(intercept,2)) + \" + \" + str(round(slope,2)) + \"x\"\n",
    "print(f\"The r-value is {rvalue} with a p-value of {pvalue}.\")\n",
    "plt.scatter(x_values,y_values,edgecolor = 'black')\n",
    "plt.plot(x_values,regress_values,\"r-\")\n",
    "plt.annotate(line_eq,(60,0.45),fontsize=15,color=\"red\")\n",
    "plt.xlabel('Internet Users by %')\n",
    "plt.ylabel('Social Support')\n",
    "plt.show()"
   ]
  },
  {
   "cell_type": "code",
   "execution_count": null,
   "metadata": {},
   "outputs": [],
   "source": [
    "x_values = df['Internet_2019']\n",
    "y_values = df['Healthy life expectancy_2019']\n",
    "(slope, intercept, rvalue, pvalue, stderr) = linregress(x_values, y_values)\n",
    "regress_values = x_values * slope + intercept\n",
    "line_eq = \"y = \" + str(round(intercept,2)) + \" + \" + str(round(slope,2)) + \"x\"\n",
    "print(f\"The r-value is {rvalue} with a p-value of {pvalue}.\")\n",
    "plt.scatter(x_values,y_values,edgecolor = 'black')\n",
    "plt.plot(x_values,regress_values,\"r-\")\n",
    "plt.annotate(line_eq,(60,0.2),fontsize=15,color=\"red\")\n",
    "plt.xlabel('Internet Users by %')\n",
    "plt.ylabel('Healthy Life Expectancy')\n",
    "plt.show()"
   ]
  },
  {
   "cell_type": "code",
   "execution_count": null,
   "metadata": {},
   "outputs": [],
   "source": [
    "x_values = df['Internet_2019']\n",
    "y_values = df['Freedom to make life choices_2019']\n",
    "(slope, intercept, rvalue, pvalue, stderr) = linregress(x_values, y_values)\n",
    "regress_values = x_values * slope + intercept\n",
    "line_eq = \"y = \" + str(round(intercept,2)) + \" + \" + str(round(slope,2)) + \"x\"\n",
    "print(f\"The r-value is {rvalue} with a p-value of {pvalue}.\")\n",
    "plt.scatter(x_values,y_values,edgecolor = 'black')\n",
    "plt.plot(x_values,regress_values,\"r-\")\n",
    "plt.annotate(line_eq,(60,0),fontsize=15,color=\"red\")\n",
    "plt.xlabel('Internet Users by %')\n",
    "plt.ylabel('Freedom to Make Life Choices')\n",
    "plt.show()"
   ]
  },
  {
   "cell_type": "code",
   "execution_count": null,
   "metadata": {},
   "outputs": [],
   "source": [
    "x_values = df['Internet_2019']\n",
    "y_values = df['Generosity_2019']\n",
    "(slope, intercept, rvalue, pvalue, stderr) = linregress(x_values, y_values)\n",
    "regress_values = x_values * slope + intercept\n",
    "line_eq = \"y = \" + str(round(intercept,2)) + \" + \" + str(round(slope,2)) + \"x\"\n",
    "print(f\"The r-value is {rvalue} with a p-value of {pvalue}.\")\n",
    "plt.scatter(x_values,y_values,edgecolor = 'black')\n",
    "plt.plot(x_values,regress_values,\"r-\")\n",
    "plt.annotate(line_eq,(60,0.5),fontsize=15,color=\"red\")\n",
    "plt.xlabel('Internet Users by %')\n",
    "plt.ylabel('Generosity')\n",
    "plt.show()"
   ]
  },
  {
   "cell_type": "code",
   "execution_count": null,
   "metadata": {},
   "outputs": [],
   "source": [
    "x_values = df['Internet_2019']\n",
    "y_values = df['Perceptions of corruption_2019']\n",
    "(slope, intercept, rvalue, pvalue, stderr) = linregress(x_values, y_values)\n",
    "regress_values = x_values * slope + intercept\n",
    "line_eq = \"y = \" + str(round(intercept,2)) + \" + \" + str(round(slope,2)) + \"x\"\n",
    "print(f\"The r-value is {rvalue} with a p-value of {pvalue}.\")\n",
    "plt.scatter(x_values,y_values,edgecolor = 'black')\n",
    "plt.plot(x_values,regress_values,\"r-\")\n",
    "plt.annotate(line_eq,(40,0.4),fontsize=15,color=\"red\")\n",
    "plt.xlabel('Internet Users by %')\n",
    "plt.ylabel('Perceptions of Corruption')\n",
    "plt.show()"
   ]
  },
  {
   "cell_type": "code",
   "execution_count": null,
   "metadata": {},
   "outputs": [],
   "source": [
    "df_2019 = df[['Country', 'Score_2019', 'Social support_2019', 'GDP per capita_2019', 'Healthy life expectancy_2019', 'Freedom to make life choices_2019', 'Generosity_2019', 'Perceptions of corruption_2019', 'Internet_2019']]\n",
    "df_2019 = df_2019.rename(columns = {'Country': 'Country','Score_2019':'Score', 'Social support_2019':'Social', 'GDP per capita_2019':'GDP', 'Healthy life expectancy_2019':'Health', 'Freedom to make life choices_2019':'Freedom', 'Generosity_2019':'Generosity', 'Perceptions of corruption_2019':'Trust', 'Internet_2019':'Users'})\n",
    "df_2019.head()"
   ]
  },
  {
   "cell_type": "code",
   "execution_count": null,
   "metadata": {},
   "outputs": [],
   "source": [
    "# scatterplot matrix\n",
    "pd.plotting.scatter_matrix(df_2019, figsize = (15,10))"
   ]
  },
  {
   "cell_type": "code",
   "execution_count": null,
   "metadata": {},
   "outputs": [],
   "source": [
    "# Steve's code ends here"
   ]
  },
  {
   "cell_type": "code",
   "execution_count": null,
   "metadata": {},
   "outputs": [],
   "source": [
    "# Rebecca's code begins here (line graphs of happiness/internet usage over time)"
   ]
  },
  {
   "cell_type": "code",
   "execution_count": null,
   "metadata": {},
   "outputs": [],
   "source": [
    "df.head()"
   ]
  },
  {
   "cell_type": "code",
   "execution_count": null,
   "metadata": {},
   "outputs": [],
   "source": [
    "# Find averages for happiness scores for each year\n",
    "happiness_2015 = df[\"Happiness Score_2015\"].mean()\n",
    "happiness_2016 = df[\"Happiness Score_2016\"].mean()\n",
    "happiness_2017 = df[\"Happiness.Score_2017\"].mean()\n",
    "happiness_2018 = df[\"Score_2018\"].mean()\n",
    "happiness_2019 = df[\"Score_2019\"].mean()"
   ]
  },
  {
   "cell_type": "code",
   "execution_count": null,
   "metadata": {},
   "outputs": [],
   "source": [
    "# Create x and y axis\n",
    "years = [\"2015\", \"2016\", \"2017\", \"2018\", \"2019\"]\n",
    "average_happiness_scores = [happiness_2015, happiness_2016, happiness_2017, happiness_2018, happiness_2019]"
   ]
  },
  {
   "cell_type": "code",
   "execution_count": null,
   "metadata": {},
   "outputs": [],
   "source": [
    "# Create line chart showing the average happiness score per year\n",
    "average_happiness = plt.plot(years, average_happiness_scores, marker=\"o\")\n",
    "\n",
    "plt.ylim(0,8)\n",
    "\n",
    "plt.title(\"Average Happiness Score Per Year\")\n",
    "plt.xlabel(\"Years\")\n",
    "plt.ylabel(\"Average Happiness Scores\")\n",
    "\n",
    "plt.savefig(\"output_data/average_happiness.png\")\n",
    "\n",
    "plt.show"
   ]
  },
  {
   "cell_type": "code",
   "execution_count": null,
   "metadata": {},
   "outputs": [],
   "source": [
    "# initialize list of averages per year\n",
    "data = [[happiness_2015, happiness_2016, happiness_2017, happiness_2018, happiness_2019]]\n",
    "  \n",
    "# Create the pandas DataFrame showing the average happiness scores per year\n",
    "average_scores = pd.DataFrame(data, columns = ['2015', \"2016\", \"2017\", \"2018\", \"2019\"]) \n",
    "average_scores"
   ]
  },
  {
   "cell_type": "code",
   "execution_count": null,
   "metadata": {},
   "outputs": [],
   "source": [
    "# Find average percentage of internet users for each year\n",
    "internet_users_2015 = df[\"Internet_2015\"].mean()\n",
    "internet_users_2016 = df[\"Internet_2016\"].mean()\n",
    "internet_users_2017 = df[\"Internet_2017\"].mean()\n",
    "internet_users_2018 = df[\"Internet_2018\"].mean()\n",
    "internet_users_2019 = df[\"Internet_2019\"].mean()"
   ]
  },
  {
   "cell_type": "code",
   "execution_count": null,
   "metadata": {},
   "outputs": [],
   "source": [
    "# Create x and y axis\n",
    "years = [\"2015\", \"2016\", \"2017\", \"2018\", \"2019\"]\n",
    "average_internet_users = [internet_users_2015, internet_users_2016, internet_users_2017, internet_users_2018, internet_users_2019]"
   ]
  },
  {
   "cell_type": "code",
   "execution_count": null,
   "metadata": {},
   "outputs": [],
   "source": [
    "# Create line chart showing the average percentage of internet users per year\n",
    "average_internet_users = plt.plot(years, average_internet_users, marker=\"o\")\n",
    "\n",
    "plt.ylim(0,100)\n",
    "\n",
    "plt.title(\"Average Percentage of Internet Users Per Year\")\n",
    "plt.xlabel(\"Years\")\n",
    "plt.ylabel(\"Average Percentage of Internet Users\")\n",
    "\n",
    "plt.savefig(\"output_data/average_happiness.png\")\n",
    "\n",
    "plt.show"
   ]
  },
  {
   "cell_type": "code",
   "execution_count": null,
   "metadata": {},
   "outputs": [],
   "source": [
    "# initialize list of averages per year\n",
    "data = [[internet_users_2015, internet_users_2016, internet_users_2017, internet_users_2018, internet_users_2019]]\n",
    "  \n",
    "# Create the pandas DataFrame showing the average internet users per year\n",
    "average_internet_scores = pd.DataFrame(data, columns = ['2015', \"2016\", \"2017\", \"2018\", \"2019\"]) \n",
    "average_internet_scores"
   ]
  },
  {
   "cell_type": "code",
   "execution_count": null,
   "metadata": {},
   "outputs": [],
   "source": [
    "# Rebecca's code ends here"
   ]
  },
  {
   "cell_type": "code",
   "execution_count": null,
   "metadata": {},
   "outputs": [],
   "source": [
    "# Daniel's code begins here (interesting bins!/further testing)"
   ]
  },
  {
   "cell_type": "code",
   "execution_count": null,
   "metadata": {},
   "outputs": [],
   "source": [
    "df.head()"
   ]
  },
  {
   "cell_type": "code",
   "execution_count": null,
   "metadata": {},
   "outputs": [],
   "source": [
    "# Plotting histograms to find interesting things to dig into\n",
    "\n",
    "# Happiness Score\n",
    "plt.figure(figsize=(8,6))\n",
    "plt.hist(df[\"Score_2019\"],15)\n",
    "plt.show()\n",
    "\n",
    "# Looks normally distributed, not a good candidate for binning"
   ]
  },
  {
   "cell_type": "code",
   "execution_count": null,
   "metadata": {},
   "outputs": [],
   "source": [
    "# Internet Users\n",
    "plt.figure(figsize=(8,6))\n",
    "plt.hist(df[\"Internet_2019\"],20)\n",
    "plt.show()\n",
    "\n",
    "# Potentially bimodal– would be interesting to look at countries with below 40% and above 60% (at least based\n",
    "# on the 2018 data)"
   ]
  },
  {
   "cell_type": "code",
   "execution_count": null,
   "metadata": {},
   "outputs": [],
   "source": [
    "# Just looking at countries with a percentage of users less than 50%\n",
    "below_50 = df[df[\"Internet_2019\"] < 50]\n",
    "below_50[\"Country\"].count()"
   ]
  },
  {
   "cell_type": "code",
   "execution_count": null,
   "metadata": {},
   "outputs": [],
   "source": [
    "# Just looking at countries with a percentage of users greater than or equal to 50%\n",
    "above_50 = df[df[\"Internet_2019\"] >= 50]\n",
    "above_50[\"Country\"].count()"
   ]
  },
  {
   "cell_type": "code",
   "execution_count": null,
   "metadata": {},
   "outputs": [],
   "source": [
    "# Generate a scatterplot of countries below and above 50% in order to see if this makes for stronger/weaker correlations\n",
    "\n",
    "plt.figure(figsize=(12,6))\n",
    "\n",
    "plt.subplot(1, 2, 1)\n",
    "x_values = below_50['Internet_2019']\n",
    "y_values = below_50['Score_2019']\n",
    "(slope, intercept, rvalue, pvalue, stderr) = linregress(x_values, y_values)\n",
    "regress_values = x_values * slope + intercept\n",
    "line_eq = \"y = \" + str(round(slope,2)) + \"x + \" + str(round(intercept,2))\n",
    "print(f\"The r-value is {rvalue}.\")\n",
    "plt.scatter(x_values,y_values,edgecolor = 'black')\n",
    "plt.plot(x_values,regress_values,\"r-\")\n",
    "plt.xlabel('Internet Users by %')\n",
    "plt.ylabel('Overall Happiness Score')\n",
    "\n",
    "\n",
    "plt.subplot(1, 2, 2)\n",
    "x_values = above_50['Internet_2019']\n",
    "y_values = above_50['Score_2019']\n",
    "(slope, intercept, rvalue, pvalue, stderr) = linregress(x_values, y_values)\n",
    "regress_values = x_values * slope + intercept\n",
    "line_eq = \"y = \" + str(round(slope,2)) + \"x + \" + str(round(intercept,2))\n",
    "print(f\"The r-value is {rvalue}.\")\n",
    "plt.scatter(x_values,y_values,edgecolor = 'black')\n",
    "plt.plot(x_values,regress_values,\"r-\")\n",
    "plt.xlabel('Internet Users by %')\n",
    "\n",
    "\n",
    "plt.show()"
   ]
  },
  {
   "cell_type": "code",
   "execution_count": null,
   "metadata": {},
   "outputs": [],
   "source": [
    "# Compare Generosity vs. Internet Users\n",
    "plt.figure(figsize=(12,6))\n",
    "\n",
    "plt.subplot(1, 2, 1)\n",
    "x_values = below_50['Internet_2019']\n",
    "y_values = below_50['Generosity_2019']\n",
    "(slope, intercept, rvalue, pvalue, stderr) = linregress(x_values, y_values)\n",
    "regress_values = x_values * slope + intercept\n",
    "line_eq = \"y = \" + str(round(slope,2)) + \"x + \" + str(round(intercept,2))\n",
    "print(f\"The r-value is {rvalue}.\")\n",
    "plt.scatter(x_values,y_values,edgecolor = 'black')\n",
    "plt.plot(x_values,regress_values,\"r-\")\n",
    "plt.xlabel('Internet Users by %')\n",
    "plt.ylabel('Overall Happiness Score')\n",
    "\n",
    "\n",
    "plt.subplot(1, 2, 2)\n",
    "x_values = above_50['Internet_2019']\n",
    "y_values = above_50['Generosity_2019']\n",
    "(slope, intercept, rvalue, pvalue, stderr) = linregress(x_values, y_values)\n",
    "regress_values = x_values * slope + intercept\n",
    "line_eq = \"y = \" + str(round(slope,2)) + \"x + \" + str(round(intercept,2))\n",
    "print(f\"The r-value is {rvalue}.\")\n",
    "plt.scatter(x_values,y_values,edgecolor = 'black')\n",
    "plt.plot(x_values,regress_values,\"r-\")\n",
    "plt.xlabel('Internet Users by %')\n",
    "\n",
    "\n",
    "plt.show()"
   ]
  },
  {
   "cell_type": "code",
   "execution_count": null,
   "metadata": {},
   "outputs": [],
   "source": [
    "# GDP\n",
    "plt.figure(figsize=(8,6))\n",
    "plt.hist(df[\"GDP per capita_2019\"],20)\n",
    "plt.show()\n",
    "\n",
    "# Looks pretty normally distributed, maybe not a good candidate for binning"
   ]
  },
  {
   "cell_type": "code",
   "execution_count": null,
   "metadata": {},
   "outputs": [],
   "source": [
    "# Trust/Corruption\n",
    "plt.figure(figsize=(8,6))\n",
    "plt.hist(df[\"Perceptions of corruption_2019\"],20)\n",
    "plt.show()\n",
    "\n",
    "# Definitely the majority of countries fall below 0.2, so we could look at those countries separate from the rest\n",
    "# (again, based on 2018 data)"
   ]
  },
  {
   "cell_type": "code",
   "execution_count": null,
   "metadata": {},
   "outputs": [],
   "source": [
    "# Daniel's code ends here"
   ]
  }
 ],
 "metadata": {
  "kernelspec": {
   "display_name": "Python 3",
   "language": "python",
   "name": "python3"
  },
  "language_info": {
   "codemirror_mode": {
    "name": "ipython",
    "version": 3
   },
   "file_extension": ".py",
   "mimetype": "text/x-python",
   "name": "python",
   "nbconvert_exporter": "python",
   "pygments_lexer": "ipython3",
   "version": "3.6.10"
  }
 },
 "nbformat": 4,
 "nbformat_minor": 4
}
